{
  "nbformat": 4,
  "nbformat_minor": 0,
  "metadata": {
    "colab": {
      "provenance": []
    },
    "kernelspec": {
      "name": "python3",
      "display_name": "Python 3"
    },
    "language_info": {
      "name": "python"
    }
  },
  "cells": [
    {
      "cell_type": "code",
      "execution_count": null,
      "metadata": {
        "id": "pIwG3fRKzYYR"
      },
      "outputs": [],
      "source": [
        "from collections import Counter\n",
        "import numpy as np\n",
        "import pandas as pd\n",
        "import tensorflow as tf\n",
        "from sklearn.model_selection import train_test_split\n",
        "from sklearn.metrics import r2_score, mean_squared_error\n",
        "from sklearn.preprocessing import StandardScaler\n",
        "import math"
      ]
    },
    {
      "cell_type": "code",
      "source": [
        "data = pd.read_csv('/content/dataset.csv', sep=',')\n",
        "pd.options.mode.chained_assignment = None\n",
        "len_data = len(data)\n",
        "print(len_data)"
      ],
      "metadata": {
        "id": "A_lRrJCh0OvV",
        "colab": {
          "base_uri": "https://localhost:8080/"
        },
        "outputId": "a88a638b-6024-490f-84da-3edd094190d5"
      },
      "execution_count": null,
      "outputs": [
        {
          "output_type": "stream",
          "name": "stdout",
          "text": [
            "1665\n"
          ]
        }
      ]
    },
    {
      "cell_type": "code",
      "source": [
        "data.info()\n",
        "print('-------------------------------')\n",
        "print('Count of records: {}'.format(len_data))"
      ],
      "metadata": {
        "colab": {
          "base_uri": "https://localhost:8080/"
        },
        "id": "XKg11SSU0f85",
        "outputId": "c7c578d7-e18d-42ae-e1b1-c4e8927db70b"
      },
      "execution_count": null,
      "outputs": [
        {
          "output_type": "stream",
          "name": "stdout",
          "text": [
            "<class 'pandas.core.frame.DataFrame'>\n",
            "RangeIndex: 1665 entries, 0 to 1664\n",
            "Data columns (total 80 columns):\n",
            " #   Column                      Non-Null Count  Dtype \n",
            "---  ------                      --------------  ----- \n",
            " 0   ClientID                    1665 non-null   object\n",
            " 1   CycleNumber                 1665 non-null   int64 \n",
            " 2   Group                       1665 non-null   int64 \n",
            " 3   CycleWithPeakorNot          1665 non-null   int64 \n",
            " 4   ReproductiveCategory        1665 non-null   int64 \n",
            " 5   LengthofCycle               1665 non-null   int64 \n",
            " 6   MeanCycleLength             1665 non-null   object\n",
            " 7   EstimatedDayofOvulation     1665 non-null   object\n",
            " 8   LengthofLutealPhase         1665 non-null   object\n",
            " 9   FirstDayofHigh              1665 non-null   object\n",
            " 10  TotalNumberofHighDays       1665 non-null   object\n",
            " 11  TotalHighPostPeak           1665 non-null   object\n",
            " 12  TotalNumberofPeakDays       1665 non-null   object\n",
            " 13  TotalDaysofFertility        1665 non-null   object\n",
            " 14  TotalFertilityFormula       1665 non-null   object\n",
            " 15  LengthofMenses              1665 non-null   object\n",
            " 16  MeanMensesLength            1665 non-null   object\n",
            " 17  MensesScoreDayOne           1665 non-null   object\n",
            " 18  MensesScoreDayTwo           1665 non-null   object\n",
            " 19  MensesScoreDayThree         1665 non-null   object\n",
            " 20  MensesScoreDayFour          1665 non-null   object\n",
            " 21  MensesScoreDayFive          1665 non-null   object\n",
            " 22  MensesScoreDaySix           1665 non-null   object\n",
            " 23  MensesScoreDaySeven         1665 non-null   object\n",
            " 24  MensesScoreDayEight         1665 non-null   object\n",
            " 25  MensesScoreDayNine          1665 non-null   object\n",
            " 26  MensesScoreDayTen           1665 non-null   object\n",
            " 27  MensesScoreDay11            1665 non-null   object\n",
            " 28  MensesScoreDay12            1665 non-null   object\n",
            " 29  MensesScoreDay13            1665 non-null   object\n",
            " 30  MensesScoreDay14            1665 non-null   object\n",
            " 31  MensesScoreDay15            1665 non-null   object\n",
            " 32  TotalMensesScore            1665 non-null   object\n",
            " 33  MeanBleedingIntensity       1665 non-null   object\n",
            " 34  NumberofDaysofIntercourse   1665 non-null   object\n",
            " 35  IntercourseInFertileWindow  1665 non-null   object\n",
            " 36  UnusualBleeding             1665 non-null   object\n",
            " 37  PhasesBleeding              1665 non-null   object\n",
            " 38  IntercourseDuringUnusBleed  1665 non-null   object\n",
            " 39  Age                         1665 non-null   object\n",
            " 40  AgeM                        1665 non-null   object\n",
            " 41  Maristatus                  1665 non-null   object\n",
            " 42  MaristatusM                 1665 non-null   object\n",
            " 43  Yearsmarried                1665 non-null   object\n",
            " 44  Wedding                     1665 non-null   object\n",
            " 45  Religion                    1665 non-null   object\n",
            " 46  ReligionM                   1665 non-null   object\n",
            " 47  Ethnicity                   1665 non-null   object\n",
            " 48  EthnicityM                  1665 non-null   object\n",
            " 49  Schoolyears                 1665 non-null   object\n",
            " 50  SchoolyearsM                1665 non-null   object\n",
            " 51  OccupationM                 1665 non-null   object\n",
            " 52  IncomeM                     1665 non-null   object\n",
            " 53  Height                      1665 non-null   object\n",
            " 54  Weight                      1665 non-null   object\n",
            " 55  Reprocate                   1665 non-null   object\n",
            " 56  Numberpreg                  1665 non-null   object\n",
            " 57  Livingkids                  1665 non-null   object\n",
            " 58  Miscarriages                1665 non-null   object\n",
            " 59  Abortions                   1665 non-null   object\n",
            " 60  Medvits                     1665 non-null   object\n",
            " 61  Medvitexplain               1665 non-null   object\n",
            " 62  Gynosurgeries               1665 non-null   object\n",
            " 63  LivingkidsM                 1665 non-null   object\n",
            " 64  Boys                        1665 non-null   object\n",
            " 65  Girls                       1665 non-null   object\n",
            " 66  MedvitsM                    1665 non-null   object\n",
            " 67  MedvitexplainM              1665 non-null   object\n",
            " 68  Urosurgeries                1665 non-null   object\n",
            " 69  Breastfeeding               1665 non-null   object\n",
            " 70  Method                      1665 non-null   object\n",
            " 71  Prevmethod                  1665 non-null   object\n",
            " 72  Methoddate                  1665 non-null   object\n",
            " 73  Whychart                    1665 non-null   object\n",
            " 74  Nextpreg                    1665 non-null   object\n",
            " 75  NextpregM                   1665 non-null   object\n",
            " 76  Spousesame                  1665 non-null   object\n",
            " 77  SpousesameM                 1665 non-null   object\n",
            " 78  Timeattemptpreg             1665 non-null   object\n",
            " 79  BMI                         1665 non-null   object\n",
            "dtypes: int64(5), object(75)\n",
            "memory usage: 1.0+ MB\n",
            "-------------------------------\n",
            "Count of records: 1665\n"
          ]
        }
      ]
    },
    {
      "cell_type": "markdown",
      "source": [
        "Patient Information\n"
      ],
      "metadata": {
        "id": "nx8XlTPQ0pA3"
      }
    },
    {
      "cell_type": "code",
      "source": [
        "patient_data_row_counter = Counter()\n",
        "for id, row in data['ClientID'].iteritems():\n",
        "    patient_data_row_counter[row] += 1\n",
        "per_user_rows = sorted(set(patient_data_row_counter.values()))\n",
        "print('Unique patients: {}'.format(data['ClientID'].nunique()))\n",
        "print('Data row count per patient between {} - {}'.format(per_user_rows[0], per_user_rows[-1]))"
      ],
      "metadata": {
        "colab": {
          "base_uri": "https://localhost:8080/"
        },
        "id": "ymYY7pnP0tTk",
        "outputId": "c63c11fa-dcb8-4895-af06-0f17b4565f69"
      },
      "execution_count": null,
      "outputs": [
        {
          "output_type": "stream",
          "name": "stdout",
          "text": [
            "Unique patients: 159\n",
            "Data row count per patient between 1 - 45\n"
          ]
        },
        {
          "output_type": "stream",
          "name": "stderr",
          "text": [
            "<ipython-input-4-21d88a28f2be>:2: FutureWarning: iteritems is deprecated and will be removed in a future version. Use .items instead.\n",
            "  for id, row in data['ClientID'].iteritems():\n"
          ]
        }
      ]
    },
    {
      "cell_type": "markdown",
      "source": [
        "Cycle length info."
      ],
      "metadata": {
        "id": "_U0l33NO1Tud"
      }
    },
    {
      "cell_type": "code",
      "source": [
        "print('Cycle length between {} - {}'.format(data['LengthofCycle'].min(), data['LengthofCycle'].max()))"
      ],
      "metadata": {
        "colab": {
          "base_uri": "https://localhost:8080/"
        },
        "id": "cDhkKfSa1Vux",
        "outputId": "45586455-e3d8-4b63-bfd7-e4605d8ea605"
      },
      "execution_count": null,
      "outputs": [
        {
          "output_type": "stream",
          "name": "stdout",
          "text": [
            "Cycle length between 18 - 54\n"
          ]
        }
      ]
    },
    {
      "cell_type": "markdown",
      "source": [
        "Leutal Phase info. The luteal phase is a phase in the menstrual cycle that occurs after ovulation and before the start of menstruation. It is primarily associated with the secretion of progesterone, a hormone that helps prepare the uterine lining (endometrium) for a potential pregnancy."
      ],
      "metadata": {
        "id": "rvfOBV881cj7"
      }
    },
    {
      "cell_type": "code",
      "source": [
        "clean_luteal_data = data[data['LengthofLutealPhase'] != ' ']\n",
        "clean_luteal_data['LengthofLutealPhase'] = pd.to_numeric(clean_luteal_data['LengthofLutealPhase'], downcast='unsigned')\n",
        "print('Luteal phase length between {} - {} days.'.format(clean_luteal_data['LengthofLutealPhase'].min(), clean_luteal_data['LengthofLutealPhase'].max()))\n",
        "print('{} records are good from {}.'.format(len(clean_luteal_data), len_data))"
      ],
      "metadata": {
        "colab": {
          "base_uri": "https://localhost:8080/"
        },
        "id": "RNs-NDyV1vv5",
        "outputId": "3112396c-4cb6-4d32-ceab-00a9dd0218a1"
      },
      "execution_count": null,
      "outputs": [
        {
          "output_type": "stream",
          "name": "stdout",
          "text": [
            "Luteal phase length between 1 - 41 days.\n",
            "1514 records are good from 1665.\n"
          ]
        }
      ]
    },
    {
      "cell_type": "markdown",
      "source": [
        "Ovulation day's info: Ovulation is a key event in the menstrual cycle of a woman and refers to the release of a mature egg (ovum) from one of the ovaries. It typically occurs around the middle of the menstrual cycle."
      ],
      "metadata": {
        "id": "ppGZC0m92Wbl"
      }
    },
    {
      "cell_type": "code",
      "source": [
        "clean_ovulation_data = data[data['EstimatedDayofOvulation'] != ' ']\n",
        "clean_ovulation_data['EstimatedDayofOvulation'] = pd.to_numeric(clean_ovulation_data['EstimatedDayofOvulation'], downcast='unsigned')\n",
        "print('Estimated day of ovulation between {} - {} days.'.format(clean_ovulation_data['EstimatedDayofOvulation'].min(),clean_ovulation_data['EstimatedDayofOvulation'].max()))\n",
        "print('{} records are good from {}.'.format(len(clean_ovulation_data), len_data))"
      ],
      "metadata": {
        "colab": {
          "base_uri": "https://localhost:8080/"
        },
        "id": "kpG2YsIN2f5K",
        "outputId": "2c67b832-ff58-4bfe-e14c-41c39245c091"
      },
      "execution_count": null,
      "outputs": [
        {
          "output_type": "stream",
          "name": "stdout",
          "text": [
            "Estimated day of ovulation between 6 - 29 days.\n",
            "1515 records are good from 1665.\n"
          ]
        }
      ]
    },
    {
      "cell_type": "markdown",
      "source": [
        "Menses info.: \"Menses\" refers to the menstrual phase of the menstrual cycle, which is the portion of the cycle during which a woman experiences menstrual bleeding or her period."
      ],
      "metadata": {
        "id": "a-uBth-C28KR"
      }
    },
    {
      "cell_type": "code",
      "source": [
        "clean_menses_data = data[data['LengthofMenses'] != ' ']\n",
        "clean_menses_data['LengthofMenses'] = pd.to_numeric(clean_menses_data['LengthofMenses'], downcast='unsigned')\n",
        "print('Length of menses between {} - {} days.'.format(clean_menses_data['LengthofMenses'].min(),\n",
        "                                                      clean_menses_data['LengthofMenses'].max()))\n",
        "print('{} records are good from {}.'.format(len(clean_menses_data), len_data))"
      ],
      "metadata": {
        "colab": {
          "base_uri": "https://localhost:8080/"
        },
        "id": "6T1Jh2zq2_Ny",
        "outputId": "b63cd915-f9d3-4a92-9b1e-11eacac4b5cf"
      },
      "execution_count": null,
      "outputs": [
        {
          "output_type": "stream",
          "name": "stdout",
          "text": [
            "Length of menses between 2 - 15 days.\n",
            "1661 records are good from 1665.\n"
          ]
        }
      ]
    },
    {
      "cell_type": "markdown",
      "source": [
        "Data cleaning"
      ],
      "metadata": {
        "id": "vmFS_LuT3E0S"
      }
    },
    {
      "cell_type": "code",
      "source": [
        "clean_data = data[data['LengthofLutealPhase'] != ' ']\n",
        "clean_data = clean_data[clean_data['LengthofMenses'] != ' ']\n",
        "clean_data = clean_data[clean_data['EstimatedDayofOvulation'] != ' ']\n",
        "\n",
        "clean_data = clean_data[['ClientID', 'LengthofCycle', 'LengthofLutealPhase', 'LengthofMenses' , 'EstimatedDayofOvulation']]\n",
        "for i, key in enumerate(patient_data_row_counter.keys()):\n",
        "    clean_data = clean_data.replace(key, i)\n",
        "clean_data.info()\n",
        "print('-------------------------------')\n",
        "print('Count of records: {}'.format(len(clean_data)))\n",
        "clean_data.to_csv('clean_dataset.csv', sep=',', index=False)"
      ],
      "metadata": {
        "colab": {
          "base_uri": "https://localhost:8080/"
        },
        "id": "fRknd4gG3G5q",
        "outputId": "d10eea18-43df-4e7d-a61f-f6113743ea78"
      },
      "execution_count": null,
      "outputs": [
        {
          "output_type": "stream",
          "name": "stdout",
          "text": [
            "<class 'pandas.core.frame.DataFrame'>\n",
            "Int64Index: 1512 entries, 0 to 1663\n",
            "Data columns (total 5 columns):\n",
            " #   Column                   Non-Null Count  Dtype \n",
            "---  ------                   --------------  ----- \n",
            " 0   ClientID                 1512 non-null   int64 \n",
            " 1   LengthofCycle            1512 non-null   int64 \n",
            " 2   LengthofLutealPhase      1512 non-null   object\n",
            " 3   LengthofMenses           1512 non-null   object\n",
            " 4   EstimatedDayofOvulation  1512 non-null   object\n",
            "dtypes: int64(2), object(3)\n",
            "memory usage: 70.9+ KB\n",
            "-------------------------------\n",
            "Count of records: 1512\n"
          ]
        }
      ]
    },
    {
      "cell_type": "markdown",
      "source": [
        "**Importing libraries to carry out ANN**"
      ],
      "metadata": {
        "id": "-uJJdS80F6ZP"
      }
    },
    {
      "cell_type": "code",
      "source": [
        "import tensorflow as tf\n",
        "from sklearn.model_selection import train_test_split\n",
        "from sklearn.metrics import r2_score, mean_squared_error\n",
        "from sklearn.preprocessing import StandardScaler\n",
        "import math"
      ],
      "metadata": {
        "id": "C6BcqJyYGDRe"
      },
      "execution_count": null,
      "outputs": []
    },
    {
      "cell_type": "markdown",
      "source": [
        "**Importing clean dataset**"
      ],
      "metadata": {
        "id": "XXpBm3sVGOcG"
      }
    },
    {
      "cell_type": "code",
      "source": [
        "dataset = pd.read_csv('clean_dataset.csv')\n",
        "X = dataset.iloc[:, :-1].values\n",
        "y = dataset.iloc[:, -1].values"
      ],
      "metadata": {
        "id": "uTkINbr2GSlk"
      },
      "execution_count": null,
      "outputs": []
    },
    {
      "cell_type": "markdown",
      "source": [
        "**Splitting Dataset into Training and Testing set**"
      ],
      "metadata": {
        "id": "TL5cbxmYGfNf"
      }
    },
    {
      "cell_type": "code",
      "source": [
        "scaler = StandardScaler()\n",
        "X = scaler.fit_transform(X)\n",
        "X_train, X_test, y_train, y_test = train_test_split(X, y, test_size=0.2, random_state=52)"
      ],
      "metadata": {
        "id": "PNVAkrx4Gke4"
      },
      "execution_count": null,
      "outputs": []
    },
    {
      "cell_type": "markdown",
      "source": [
        "**BUILDING THE ANN**\n"
      ],
      "metadata": {
        "id": "XgzLSmZTG1GN"
      }
    },
    {
      "cell_type": "code",
      "source": [
        "ann = tf.keras.models.Sequential([\n",
        "    tf.keras.layers.Dense(units=64, activation='relu', input_dim=X_train.shape[1]),\n",
        "    tf.keras.layers.Dropout(0.2),\n",
        "    tf.keras.layers.Dense(units=32, activation='relu', kernel_regularizer=tf.keras.regularizers.l2(0.01)),\n",
        "    tf.keras.layers.Dense(units=1)\n",
        "])"
      ],
      "metadata": {
        "id": "QqOKlc-gG0Fv"
      },
      "execution_count": null,
      "outputs": []
    },
    {
      "cell_type": "markdown",
      "source": [
        "**Compiling the ANN**"
      ],
      "metadata": {
        "id": "OetCU2vkHeTZ"
      }
    },
    {
      "cell_type": "code",
      "source": [
        "ann.compile(optimizer='adam', loss='mean_squared_error')"
      ],
      "metadata": {
        "id": "thO37HzLHhUd"
      },
      "execution_count": null,
      "outputs": []
    },
    {
      "cell_type": "markdown",
      "source": [
        "**Training the ANN model on Training set**"
      ],
      "metadata": {
        "id": "WC16Mu40HoQG"
      }
    },
    {
      "cell_type": "code",
      "source": [
        "ann.fit(X_train, y_train, batch_size=32, epochs=150, validation_split=0.2)"
      ],
      "metadata": {
        "colab": {
          "base_uri": "https://localhost:8080/"
        },
        "id": "giiNplDvHtyK",
        "outputId": "6cf85764-d4b2-442c-a4af-e2e3add194e3"
      },
      "execution_count": null,
      "outputs": [
        {
          "output_type": "stream",
          "name": "stdout",
          "text": [
            "Epoch 1/150\n",
            "31/31 [==============================] - 2s 13ms/step - loss: 244.0827 - val_loss: 216.5130\n",
            "Epoch 2/150\n",
            "31/31 [==============================] - 0s 5ms/step - loss: 187.0419 - val_loss: 146.0646\n",
            "Epoch 3/150\n",
            "31/31 [==============================] - 0s 5ms/step - loss: 108.5860 - val_loss: 64.5577\n",
            "Epoch 4/150\n",
            "31/31 [==============================] - 0s 5ms/step - loss: 40.9189 - val_loss: 23.7966\n",
            "Epoch 5/150\n",
            "31/31 [==============================] - 0s 5ms/step - loss: 22.2941 - val_loss: 18.5487\n",
            "Epoch 6/150\n",
            "31/31 [==============================] - 0s 5ms/step - loss: 19.3139 - val_loss: 16.1323\n",
            "Epoch 7/150\n",
            "31/31 [==============================] - 0s 4ms/step - loss: 15.8086 - val_loss: 14.2997\n",
            "Epoch 8/150\n",
            "31/31 [==============================] - 0s 5ms/step - loss: 14.2538 - val_loss: 12.8951\n",
            "Epoch 9/150\n",
            "31/31 [==============================] - 0s 5ms/step - loss: 12.3505 - val_loss: 11.7218\n",
            "Epoch 10/150\n",
            "31/31 [==============================] - 0s 5ms/step - loss: 11.6896 - val_loss: 10.3373\n",
            "Epoch 11/150\n",
            "31/31 [==============================] - 0s 5ms/step - loss: 11.4506 - val_loss: 9.2746\n",
            "Epoch 12/150\n",
            "31/31 [==============================] - 0s 4ms/step - loss: 9.8993 - val_loss: 8.0987\n",
            "Epoch 13/150\n",
            "31/31 [==============================] - 0s 4ms/step - loss: 8.6363 - val_loss: 7.1829\n",
            "Epoch 14/150\n",
            "31/31 [==============================] - 0s 6ms/step - loss: 7.5482 - val_loss: 6.4192\n",
            "Epoch 15/150\n",
            "31/31 [==============================] - 0s 5ms/step - loss: 7.4501 - val_loss: 5.6432\n",
            "Epoch 16/150\n",
            "31/31 [==============================] - 0s 4ms/step - loss: 6.6876 - val_loss: 4.9994\n",
            "Epoch 17/150\n",
            "31/31 [==============================] - 0s 3ms/step - loss: 5.6940 - val_loss: 4.4397\n",
            "Epoch 18/150\n",
            "31/31 [==============================] - 0s 3ms/step - loss: 5.3822 - val_loss: 3.8460\n",
            "Epoch 19/150\n",
            "31/31 [==============================] - 0s 4ms/step - loss: 5.0262 - val_loss: 3.4085\n",
            "Epoch 20/150\n",
            "31/31 [==============================] - 0s 3ms/step - loss: 4.5108 - val_loss: 3.0635\n",
            "Epoch 21/150\n",
            "31/31 [==============================] - 0s 3ms/step - loss: 4.1348 - val_loss: 2.6927\n",
            "Epoch 22/150\n",
            "31/31 [==============================] - 0s 3ms/step - loss: 4.0699 - val_loss: 2.4155\n",
            "Epoch 23/150\n",
            "31/31 [==============================] - 0s 3ms/step - loss: 4.0859 - val_loss: 2.1582\n",
            "Epoch 24/150\n",
            "31/31 [==============================] - 0s 3ms/step - loss: 3.7869 - val_loss: 1.9495\n",
            "Epoch 25/150\n",
            "31/31 [==============================] - 0s 3ms/step - loss: 3.4342 - val_loss: 1.7557\n",
            "Epoch 26/150\n",
            "31/31 [==============================] - 0s 3ms/step - loss: 3.2755 - val_loss: 1.6092\n",
            "Epoch 27/150\n",
            "31/31 [==============================] - 0s 3ms/step - loss: 2.7548 - val_loss: 1.4853\n",
            "Epoch 28/150\n",
            "31/31 [==============================] - 0s 4ms/step - loss: 3.0397 - val_loss: 1.4485\n",
            "Epoch 29/150\n",
            "31/31 [==============================] - 0s 4ms/step - loss: 2.8370 - val_loss: 1.3326\n",
            "Epoch 30/150\n",
            "31/31 [==============================] - 0s 4ms/step - loss: 2.7745 - val_loss: 1.1860\n",
            "Epoch 31/150\n",
            "31/31 [==============================] - 0s 3ms/step - loss: 2.8366 - val_loss: 1.1280\n",
            "Epoch 32/150\n",
            "31/31 [==============================] - 0s 3ms/step - loss: 2.7914 - val_loss: 1.0583\n",
            "Epoch 33/150\n",
            "31/31 [==============================] - 0s 3ms/step - loss: 2.6396 - val_loss: 0.9737\n",
            "Epoch 34/150\n",
            "31/31 [==============================] - 0s 3ms/step - loss: 2.4999 - val_loss: 0.9409\n",
            "Epoch 35/150\n",
            "31/31 [==============================] - 0s 3ms/step - loss: 2.6613 - val_loss: 0.8944\n",
            "Epoch 36/150\n",
            "31/31 [==============================] - 0s 4ms/step - loss: 2.4052 - val_loss: 0.8407\n",
            "Epoch 37/150\n",
            "31/31 [==============================] - 0s 4ms/step - loss: 2.3739 - val_loss: 0.8423\n",
            "Epoch 38/150\n",
            "31/31 [==============================] - 0s 3ms/step - loss: 2.4309 - val_loss: 0.7808\n",
            "Epoch 39/150\n",
            "31/31 [==============================] - 0s 3ms/step - loss: 2.2571 - val_loss: 0.8119\n",
            "Epoch 40/150\n",
            "31/31 [==============================] - 0s 3ms/step - loss: 2.2429 - val_loss: 0.7604\n",
            "Epoch 41/150\n",
            "31/31 [==============================] - 0s 3ms/step - loss: 2.2112 - val_loss: 0.7218\n",
            "Epoch 42/150\n",
            "31/31 [==============================] - 0s 3ms/step - loss: 2.1841 - val_loss: 0.7089\n",
            "Epoch 43/150\n",
            "31/31 [==============================] - 0s 3ms/step - loss: 2.2040 - val_loss: 0.7179\n",
            "Epoch 44/150\n",
            "31/31 [==============================] - 0s 3ms/step - loss: 2.1968 - val_loss: 0.6578\n",
            "Epoch 45/150\n",
            "31/31 [==============================] - 0s 3ms/step - loss: 2.2326 - val_loss: 0.6362\n",
            "Epoch 46/150\n",
            "31/31 [==============================] - 0s 3ms/step - loss: 2.0390 - val_loss: 0.6382\n",
            "Epoch 47/150\n",
            "31/31 [==============================] - 0s 4ms/step - loss: 2.2889 - val_loss: 0.6532\n",
            "Epoch 48/150\n",
            "31/31 [==============================] - 0s 3ms/step - loss: 2.0022 - val_loss: 0.6045\n",
            "Epoch 49/150\n",
            "31/31 [==============================] - 0s 3ms/step - loss: 1.8774 - val_loss: 0.5897\n",
            "Epoch 50/150\n",
            "31/31 [==============================] - 0s 3ms/step - loss: 1.9813 - val_loss: 0.5786\n",
            "Epoch 51/150\n",
            "31/31 [==============================] - 0s 3ms/step - loss: 2.2017 - val_loss: 0.5982\n",
            "Epoch 52/150\n",
            "31/31 [==============================] - 0s 4ms/step - loss: 2.1055 - val_loss: 0.5643\n",
            "Epoch 53/150\n",
            "31/31 [==============================] - 0s 3ms/step - loss: 1.8839 - val_loss: 0.5527\n",
            "Epoch 54/150\n",
            "31/31 [==============================] - 0s 3ms/step - loss: 2.1486 - val_loss: 0.5574\n",
            "Epoch 55/150\n",
            "31/31 [==============================] - 0s 3ms/step - loss: 2.0532 - val_loss: 0.5594\n",
            "Epoch 56/150\n",
            "31/31 [==============================] - 0s 4ms/step - loss: 2.0175 - val_loss: 0.5508\n",
            "Epoch 57/150\n",
            "31/31 [==============================] - 0s 3ms/step - loss: 1.8592 - val_loss: 0.5273\n",
            "Epoch 58/150\n",
            "31/31 [==============================] - 0s 3ms/step - loss: 1.8727 - val_loss: 0.5470\n",
            "Epoch 59/150\n",
            "31/31 [==============================] - 0s 4ms/step - loss: 1.8036 - val_loss: 0.5384\n",
            "Epoch 60/150\n",
            "31/31 [==============================] - 0s 3ms/step - loss: 1.9769 - val_loss: 0.5040\n",
            "Epoch 61/150\n",
            "31/31 [==============================] - 0s 3ms/step - loss: 2.0023 - val_loss: 0.5072\n",
            "Epoch 62/150\n",
            "31/31 [==============================] - 0s 3ms/step - loss: 1.7250 - val_loss: 0.5839\n",
            "Epoch 63/150\n",
            "31/31 [==============================] - 0s 3ms/step - loss: 1.6927 - val_loss: 0.5099\n",
            "Epoch 64/150\n",
            "31/31 [==============================] - 0s 4ms/step - loss: 1.7009 - val_loss: 0.4851\n",
            "Epoch 65/150\n",
            "31/31 [==============================] - 0s 3ms/step - loss: 1.7104 - val_loss: 0.5194\n",
            "Epoch 66/150\n",
            "31/31 [==============================] - 0s 3ms/step - loss: 1.6050 - val_loss: 0.5401\n",
            "Epoch 67/150\n",
            "31/31 [==============================] - 0s 4ms/step - loss: 1.7252 - val_loss: 0.5168\n",
            "Epoch 68/150\n",
            "31/31 [==============================] - 0s 3ms/step - loss: 1.6933 - val_loss: 0.4861\n",
            "Epoch 69/150\n",
            "31/31 [==============================] - 0s 4ms/step - loss: 1.7393 - val_loss: 0.5039\n",
            "Epoch 70/150\n",
            "31/31 [==============================] - 0s 3ms/step - loss: 1.7424 - val_loss: 0.4799\n",
            "Epoch 71/150\n",
            "31/31 [==============================] - 0s 3ms/step - loss: 1.5515 - val_loss: 0.4963\n",
            "Epoch 72/150\n",
            "31/31 [==============================] - 0s 3ms/step - loss: 1.5575 - val_loss: 0.4707\n",
            "Epoch 73/150\n",
            "31/31 [==============================] - 0s 3ms/step - loss: 1.8624 - val_loss: 0.5090\n",
            "Epoch 74/150\n",
            "31/31 [==============================] - 0s 3ms/step - loss: 1.6207 - val_loss: 0.4938\n",
            "Epoch 75/150\n",
            "31/31 [==============================] - 0s 3ms/step - loss: 1.7203 - val_loss: 0.5197\n",
            "Epoch 76/150\n",
            "31/31 [==============================] - 0s 3ms/step - loss: 1.5765 - val_loss: 0.4841\n",
            "Epoch 77/150\n",
            "31/31 [==============================] - 0s 4ms/step - loss: 1.5997 - val_loss: 0.5419\n",
            "Epoch 78/150\n",
            "31/31 [==============================] - 0s 4ms/step - loss: 1.6240 - val_loss: 0.4650\n",
            "Epoch 79/150\n",
            "31/31 [==============================] - 0s 3ms/step - loss: 1.6579 - val_loss: 0.4863\n",
            "Epoch 80/150\n",
            "31/31 [==============================] - 0s 3ms/step - loss: 1.5033 - val_loss: 0.4433\n",
            "Epoch 81/150\n",
            "31/31 [==============================] - 0s 3ms/step - loss: 1.4787 - val_loss: 0.4368\n",
            "Epoch 82/150\n",
            "31/31 [==============================] - 0s 3ms/step - loss: 1.5805 - val_loss: 0.4340\n",
            "Epoch 83/150\n",
            "31/31 [==============================] - 0s 3ms/step - loss: 1.5775 - val_loss: 0.4322\n",
            "Epoch 84/150\n",
            "31/31 [==============================] - 0s 4ms/step - loss: 1.4853 - val_loss: 0.4675\n",
            "Epoch 85/150\n",
            "31/31 [==============================] - 0s 4ms/step - loss: 1.4069 - val_loss: 0.4262\n",
            "Epoch 86/150\n",
            "31/31 [==============================] - 0s 3ms/step - loss: 1.5216 - val_loss: 0.6029\n",
            "Epoch 87/150\n",
            "31/31 [==============================] - 0s 3ms/step - loss: 1.5499 - val_loss: 0.4402\n",
            "Epoch 88/150\n",
            "31/31 [==============================] - 0s 4ms/step - loss: 1.5746 - val_loss: 0.4170\n",
            "Epoch 89/150\n",
            "31/31 [==============================] - 0s 3ms/step - loss: 1.5167 - val_loss: 0.5079\n",
            "Epoch 90/150\n",
            "31/31 [==============================] - 0s 3ms/step - loss: 1.5281 - val_loss: 0.4066\n",
            "Epoch 91/150\n",
            "31/31 [==============================] - 0s 3ms/step - loss: 1.5066 - val_loss: 0.5635\n",
            "Epoch 92/150\n",
            "31/31 [==============================] - 0s 4ms/step - loss: 1.5057 - val_loss: 0.4639\n",
            "Epoch 93/150\n",
            "31/31 [==============================] - 0s 3ms/step - loss: 1.4057 - val_loss: 0.4847\n",
            "Epoch 94/150\n",
            "31/31 [==============================] - 0s 3ms/step - loss: 1.4156 - val_loss: 0.4447\n",
            "Epoch 95/150\n",
            "31/31 [==============================] - 0s 4ms/step - loss: 1.4727 - val_loss: 0.4424\n",
            "Epoch 96/150\n",
            "31/31 [==============================] - 0s 3ms/step - loss: 1.3223 - val_loss: 0.4144\n",
            "Epoch 97/150\n",
            "31/31 [==============================] - 0s 3ms/step - loss: 1.4824 - val_loss: 0.4371\n",
            "Epoch 98/150\n",
            "31/31 [==============================] - 0s 3ms/step - loss: 1.4894 - val_loss: 0.4023\n",
            "Epoch 99/150\n",
            "31/31 [==============================] - 0s 3ms/step - loss: 1.3902 - val_loss: 0.4316\n",
            "Epoch 100/150\n",
            "31/31 [==============================] - 0s 3ms/step - loss: 1.4884 - val_loss: 0.4469\n",
            "Epoch 101/150\n",
            "31/31 [==============================] - 0s 4ms/step - loss: 1.2891 - val_loss: 0.4092\n",
            "Epoch 102/150\n",
            "31/31 [==============================] - 0s 3ms/step - loss: 1.2223 - val_loss: 0.4077\n",
            "Epoch 103/150\n",
            "31/31 [==============================] - 0s 3ms/step - loss: 1.2738 - val_loss: 0.4658\n",
            "Epoch 104/150\n",
            "31/31 [==============================] - 0s 3ms/step - loss: 1.3236 - val_loss: 0.3894\n",
            "Epoch 105/150\n",
            "31/31 [==============================] - 0s 3ms/step - loss: 1.2439 - val_loss: 0.4137\n",
            "Epoch 106/150\n",
            "31/31 [==============================] - 0s 4ms/step - loss: 1.3337 - val_loss: 0.4045\n",
            "Epoch 107/150\n",
            "31/31 [==============================] - 0s 7ms/step - loss: 1.2612 - val_loss: 0.4002\n",
            "Epoch 108/150\n",
            "31/31 [==============================] - 0s 5ms/step - loss: 1.2463 - val_loss: 0.3673\n",
            "Epoch 109/150\n",
            "31/31 [==============================] - 0s 5ms/step - loss: 1.2330 - val_loss: 0.3947\n",
            "Epoch 110/150\n",
            "31/31 [==============================] - 0s 5ms/step - loss: 1.2228 - val_loss: 0.4394\n",
            "Epoch 111/150\n",
            "31/31 [==============================] - 0s 5ms/step - loss: 1.1166 - val_loss: 0.3712\n",
            "Epoch 112/150\n",
            "31/31 [==============================] - 0s 5ms/step - loss: 1.2836 - val_loss: 0.4120\n",
            "Epoch 113/150\n",
            "31/31 [==============================] - 0s 5ms/step - loss: 1.1630 - val_loss: 0.4154\n",
            "Epoch 114/150\n",
            "31/31 [==============================] - 0s 5ms/step - loss: 1.1871 - val_loss: 0.3976\n",
            "Epoch 115/150\n",
            "31/31 [==============================] - 0s 5ms/step - loss: 1.2358 - val_loss: 0.3705\n",
            "Epoch 116/150\n",
            "31/31 [==============================] - 0s 5ms/step - loss: 1.1549 - val_loss: 0.3773\n",
            "Epoch 117/150\n",
            "31/31 [==============================] - 0s 5ms/step - loss: 1.2470 - val_loss: 0.4771\n",
            "Epoch 118/150\n",
            "31/31 [==============================] - 0s 4ms/step - loss: 1.1923 - val_loss: 0.5287\n",
            "Epoch 119/150\n",
            "31/31 [==============================] - 0s 4ms/step - loss: 1.1681 - val_loss: 0.4684\n",
            "Epoch 120/150\n",
            "31/31 [==============================] - 0s 4ms/step - loss: 1.0535 - val_loss: 0.3363\n",
            "Epoch 121/150\n",
            "31/31 [==============================] - 0s 5ms/step - loss: 1.0555 - val_loss: 0.3569\n",
            "Epoch 122/150\n",
            "31/31 [==============================] - 0s 4ms/step - loss: 0.9805 - val_loss: 0.3699\n",
            "Epoch 123/150\n",
            "31/31 [==============================] - 0s 6ms/step - loss: 1.1354 - val_loss: 0.3829\n",
            "Epoch 124/150\n",
            "31/31 [==============================] - 0s 5ms/step - loss: 1.0318 - val_loss: 0.3779\n",
            "Epoch 125/150\n",
            "31/31 [==============================] - 0s 5ms/step - loss: 1.1143 - val_loss: 0.4409\n",
            "Epoch 126/150\n",
            "31/31 [==============================] - 0s 4ms/step - loss: 1.0657 - val_loss: 0.3667\n",
            "Epoch 127/150\n",
            "31/31 [==============================] - 0s 4ms/step - loss: 1.0396 - val_loss: 0.3534\n",
            "Epoch 128/150\n",
            "31/31 [==============================] - 0s 5ms/step - loss: 1.0592 - val_loss: 0.3718\n",
            "Epoch 129/150\n",
            "31/31 [==============================] - 0s 4ms/step - loss: 1.1823 - val_loss: 0.3708\n",
            "Epoch 130/150\n",
            "31/31 [==============================] - 0s 5ms/step - loss: 1.0278 - val_loss: 0.3673\n",
            "Epoch 131/150\n",
            "31/31 [==============================] - 0s 4ms/step - loss: 1.1530 - val_loss: 0.3756\n",
            "Epoch 132/150\n",
            "31/31 [==============================] - 0s 5ms/step - loss: 1.0639 - val_loss: 0.3433\n",
            "Epoch 133/150\n",
            "31/31 [==============================] - 0s 4ms/step - loss: 0.9415 - val_loss: 0.3686\n",
            "Epoch 134/150\n",
            "31/31 [==============================] - 0s 5ms/step - loss: 1.0033 - val_loss: 0.3522\n",
            "Epoch 135/150\n",
            "31/31 [==============================] - 0s 4ms/step - loss: 1.0043 - val_loss: 0.3570\n",
            "Epoch 136/150\n",
            "31/31 [==============================] - 0s 5ms/step - loss: 1.0927 - val_loss: 0.4380\n",
            "Epoch 137/150\n",
            "31/31 [==============================] - 0s 5ms/step - loss: 1.0181 - val_loss: 0.5759\n",
            "Epoch 138/150\n",
            "31/31 [==============================] - 0s 3ms/step - loss: 1.1398 - val_loss: 0.3425\n",
            "Epoch 139/150\n",
            "31/31 [==============================] - 0s 3ms/step - loss: 1.0733 - val_loss: 0.3954\n",
            "Epoch 140/150\n",
            "31/31 [==============================] - 0s 3ms/step - loss: 1.0355 - val_loss: 0.3464\n",
            "Epoch 141/150\n",
            "31/31 [==============================] - 0s 3ms/step - loss: 1.0036 - val_loss: 0.3712\n",
            "Epoch 142/150\n",
            "31/31 [==============================] - 0s 3ms/step - loss: 0.9757 - val_loss: 0.3595\n",
            "Epoch 143/150\n",
            "31/31 [==============================] - 0s 3ms/step - loss: 0.9495 - val_loss: 0.3422\n",
            "Epoch 144/150\n",
            "31/31 [==============================] - 0s 3ms/step - loss: 0.9330 - val_loss: 0.3484\n",
            "Epoch 145/150\n",
            "31/31 [==============================] - 0s 3ms/step - loss: 0.9959 - val_loss: 0.3592\n",
            "Epoch 146/150\n",
            "31/31 [==============================] - 0s 4ms/step - loss: 0.8583 - val_loss: 0.3413\n",
            "Epoch 147/150\n",
            "31/31 [==============================] - 0s 4ms/step - loss: 1.0332 - val_loss: 0.3309\n",
            "Epoch 148/150\n",
            "31/31 [==============================] - 0s 4ms/step - loss: 0.8821 - val_loss: 0.3533\n",
            "Epoch 149/150\n",
            "31/31 [==============================] - 0s 3ms/step - loss: 0.8879 - val_loss: 0.4195\n",
            "Epoch 150/150\n",
            "31/31 [==============================] - 0s 3ms/step - loss: 0.8845 - val_loss: 0.3698\n"
          ]
        },
        {
          "output_type": "execute_result",
          "data": {
            "text/plain": [
              "<keras.src.callbacks.History at 0x7ee76922be20>"
            ]
          },
          "metadata": {},
          "execution_count": 15
        }
      ]
    },
    {
      "cell_type": "markdown",
      "source": [
        "**Predicting the Result**"
      ],
      "metadata": {
        "id": "0Fya3hvrH3mq"
      }
    },
    {
      "cell_type": "code",
      "source": [
        "y_pred = ann.predict(X_test)"
      ],
      "metadata": {
        "colab": {
          "base_uri": "https://localhost:8080/"
        },
        "id": "UaypZTbAIJ6E",
        "outputId": "d97a1dc7-ead8-476f-b7da-79666fa7d025"
      },
      "execution_count": null,
      "outputs": [
        {
          "output_type": "stream",
          "name": "stdout",
          "text": [
            "10/10 [==============================] - 0s 2ms/step\n"
          ]
        }
      ]
    },
    {
      "cell_type": "code",
      "source": [
        "y_pred = ann.predict(X_test)\n",
        "r2 = r2_score(y_test, y_pred)\n",
        "rmse = math.sqrt(mean_squared_error(y_test, y_pred))"
      ],
      "metadata": {
        "colab": {
          "base_uri": "https://localhost:8080/"
        },
        "id": "mmlYa4PEIMAG",
        "outputId": "60d5e5a8-e7c2-45c2-9dfe-c6fb9c4c1370"
      },
      "execution_count": null,
      "outputs": [
        {
          "output_type": "stream",
          "name": "stdout",
          "text": [
            "10/10 [==============================] - 0s 2ms/step\n"
          ]
        }
      ]
    },
    {
      "cell_type": "code",
      "source": [
        "print(\"R-squared Score:\", r2)"
      ],
      "metadata": {
        "colab": {
          "base_uri": "https://localhost:8080/"
        },
        "id": "LPW9R-TtqLXG",
        "outputId": "75b6131d-c421-4780-f9ce-6fac3d4dd72e"
      },
      "execution_count": null,
      "outputs": [
        {
          "output_type": "stream",
          "name": "stdout",
          "text": [
            "R-squared Score: 0.9427939991975066\n"
          ]
        }
      ]
    },
    {
      "cell_type": "code",
      "source": [
        "print(\"Root Mean Squared Error:\", rmse)"
      ],
      "metadata": {
        "colab": {
          "base_uri": "https://localhost:8080/"
        },
        "id": "oJ4aO30wIUqR",
        "outputId": "cd631607-8c08-40c5-f953-5bb398ffe7d0"
      },
      "execution_count": null,
      "outputs": [
        {
          "output_type": "stream",
          "name": "stdout",
          "text": [
            "Root Mean Squared Error: 0.8619748853346083\n"
          ]
        }
      ]
    }
  ]
}